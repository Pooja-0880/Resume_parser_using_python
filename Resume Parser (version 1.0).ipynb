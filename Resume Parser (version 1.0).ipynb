{
 "cells": [
  {
   "cell_type": "code",
   "execution_count": 1,
   "id": "b69c3a33",
   "metadata": {},
   "outputs": [],
   "source": [
    "import numpy as np \n",
    "import pandas as pd \n",
    "\n",
    "from pdfminer.pdfpage import PDFPage\n",
    "from pdfminer.pdfinterp import PDFResourceManager, PDFPageInterpreter\n",
    "from pdfminer.converter import TextConverter\n",
    "from pdfminer.layout import LAParams \n",
    "import io "
   ]
  },
  {
   "cell_type": "markdown",
   "id": "7c286dae",
   "metadata": {},
   "source": [
    "### Reading the resume pdf pages "
   ]
  },
  {
   "cell_type": "code",
   "execution_count": 2,
   "id": "357e043d",
   "metadata": {
    "scrolled": true
   },
   "outputs": [
    {
     "name": "stdout",
     "output_type": "stream",
     "text": [
      "CARPENTER APPRENTICE\n",
      "Professional Summary\n",
      "\n",
      "Former construction and carpentry worker committed to high-quality workmanship and safe environments. Over 4 years of hands-on experience\n",
      "working with remodeling projects in residential and commercial construction. Dedicated work ethic and exceptional attendance record. I am\n",
      "motivated to learn new trades and skills. Interested in growing career and fostering leadership capabilities. Professional Construction Laborer with\n",
      "excellent interpersonal skills. Works in timely and efficient manner to see tough jobs through to completion.\n",
      "\n",
      "Skills\n",
      "\n",
      "Cabinetry\n",
      "Material prepping\n",
      "Construction drawing interpretation\n",
      "Carpentry techniques\n",
      "Oral and written communication\n",
      "\n",
      "Materials handling\n",
      "New construction and renovation\n",
      "Drywalling\n",
      "Safety and compliance\n",
      "\n",
      "Work History\n",
      "Carpenter Apprentice , 10/2017 to 09/2019 \n",
      "Company Name â€“ City , State \n",
      "\n",
      "Assisted with movement of materials and equipment to job sites\n",
      "Worked with master carpenters to install decks for both residential and commercial customers\n",
      "Installed and repaired woodwork, millwork and cabinetry under supervision of master carpenter\n",
      "Kept job site cleaned up properly and all debris disposed of in respective containers\n",
      "Interpreted specifications and construction drawings to understand tasks necessary to complete each job\n",
      "Accepted feedback from foreman and journeyman carpenter, implementing suggestions into later work\n",
      "Observed all OSHA and corporate safety regulations and procedures\n",
      "Led variety of projects from start to finish, including garages, residential homes and additions\n",
      "Repaired roofs and flooring and remodeled bathrooms and kitchens to complete projects in satisfactory time\n",
      "Effectively used all fasteners such as nails, screws, pneumatic nailing systems, concrete anchors, powder-actuated fasteners and framing\n",
      "connectors\n",
      "Proactively managed projects to obtain 100% customer satisfaction for all custom work\n",
      "Installed interior finish items, including wall protection, doors and hardware, toilet accessories, cubicle curtain tracks and TV brackets\n",
      "Installed drywall, ceilings, trim and fabricated replacement trim and moldings\n",
      "\n",
      "Construction Worker , 08/2016 to 09/2017 \n",
      "Company Name â€“ City , State \n",
      "\n",
      "Supported customer preferences with basic carpentry work such as installing wooden floors and crown molding\n",
      "Consulted with customers to understand desires and help each owner meet individual property objectives\n",
      "Gathered and disposed of work site debris to remove safety hazards and boost team productivity\n",
      "Monitored materials inventory and requested items for restocking for each job\n",
      "Loaded and unloaded building materials used for construction\n",
      "Safely operated mowers, chain saws, electric clippers, sod cutters and pruning saws to clear construction sites, roadbeds and access roads\n",
      "Erected and removed temporary structures such as trench liners and scaffolding to meet team needs\n",
      "Enhanced team efficiency and multitasking abilities by effectively using hand tools, power tools and equipment\n",
      "Gathered waste and trash from job sites for placement in refuse containers to keep job sites clean and organized\n",
      "\n",
      "Education\n",
      "High School Diploma : 04/2010 \n",
      "Buffalo High School - City , State \n",
      "CSHO (Certified Safety & Health Official) , 01/2020 \n",
      "TEEX - City \n",
      "Skills\n",
      "\n",
      "Cabinetry\n",
      "Material prepping\n",
      "Construction drawing interpretation\n",
      "Carpentry techniques\n",
      "Oral and written communication\n",
      "\n",
      "Materials handling\n",
      "New construction and renovation\n",
      "Drywalling\n",
      "Safety and compliance\n",
      "\n",
      "Work History\n",
      "Carpenter Apprentice , 10/2017 to 09/2019 \n",
      "\n",
      "\f",
      "\n",
      "CARPENTER APPRENTICE\n",
      "Professional Summary\n",
      "\n",
      "Former construction and carpentry worker committed to high-quality workmanship and safe environments. Over 4 years of hands-on experience\n",
      "working with remodeling projects in residential and commercial construction. Dedicated work ethic and exceptional attendance record. I am\n",
      "motivated to learn new trades and skills. Interested in growing career and fostering leadership capabilities. Professional Construction Laborer with\n",
      "excellent interpersonal skills. Works in timely and efficient manner to see tough jobs through to completion.\n",
      "\n",
      "Skills\n",
      "\n",
      "Cabinetry\n",
      "Material prepping\n",
      "Construction drawing interpretation\n",
      "Carpentry techniques\n",
      "Oral and written communication\n",
      "\n",
      "Materials handling\n",
      "New construction and renovation\n",
      "Drywalling\n",
      "Safety and compliance\n",
      "\n",
      "Work History\n",
      "Carpenter Apprentice , 10/2017 to 09/2019 \n",
      "Company Name â€“ City , State \n",
      "\n",
      "Assisted with movement of materials and equipment to job sites\n",
      "Worked with master carpenters to install decks for both residential and commercial customers\n",
      "Installed and repaired woodwork, millwork and cabinetry under supervision of master carpenter\n",
      "Kept job site cleaned up properly and all debris disposed of in respective containers\n",
      "Interpreted specifications and construction drawings to understand tasks necessary to complete each job\n",
      "Accepted feedback from foreman and journeyman carpenter, implementing suggestions into later work\n",
      "Observed all OSHA and corporate safety regulations and procedures\n",
      "Led variety of projects from start to finish, including garages, residential homes and additions\n",
      "Repaired roofs and flooring and remodeled bathrooms and kitchens to complete projects in satisfactory time\n",
      "Effectively used all fasteners such as nails, screws, pneumatic nailing systems, concrete anchors, powder-actuated fasteners and framing\n",
      "connectors\n",
      "Proactively managed projects to obtain 100% customer satisfaction for all custom work\n",
      "Installed interior finish items, including wall protection, doors and hardware, toilet accessories, cubicle curtain tracks and TV brackets\n",
      "Installed drywall, ceilings, trim and fabricated replacement trim and moldings\n",
      "\n",
      "Construction Worker , 08/2016 to 09/2017 \n",
      "Company Name â€“ City , State \n",
      "\n",
      "Supported customer preferences with basic carpentry work such as installing wooden floors and crown molding\n",
      "Consulted with customers to understand desires and help each owner meet individual property objectives\n",
      "Gathered and disposed of work site debris to remove safety hazards and boost team productivity\n",
      "Monitored materials inventory and requested items for restocking for each job\n",
      "Loaded and unloaded building materials used for construction\n",
      "Safely operated mowers, chain saws, electric clippers, sod cutters and pruning saws to clear construction sites, roadbeds and access roads\n",
      "Erected and removed temporary structures such as trench liners and scaffolding to meet team needs\n",
      "Enhanced team efficiency and multitasking abilities by effectively using hand tools, power tools and equipment\n",
      "Gathered waste and trash from job sites for placement in refuse containers to keep job sites clean and organized\n",
      "\n",
      "Education\n",
      "High School Diploma : 04/2010 \n",
      "Buffalo High School - City , State \n",
      "CSHO (Certified Safety & Health Official) , 01/2020 \n",
      "TEEX - City \n",
      "Skills\n",
      "\n",
      "Cabinetry\n",
      "Material prepping\n",
      "Construction drawing interpretation\n",
      "Carpentry techniques\n",
      "Oral and written communication\n",
      "\n",
      "Materials handling\n",
      "New construction and renovation\n",
      "Drywalling\n",
      "Safety and compliance\n",
      "\n",
      "Work History\n",
      "Carpenter Apprentice , 10/2017 to 09/2019 \n",
      "\n",
      "\f",
      "Company Name â€“ City , State \n",
      "\n",
      "Assisted with movement of materials and equipment to job sites\n",
      "Worked with master carpenters to install decks for both residential and commercial customers\n",
      "Installed and repaired woodwork, millwork and cabinetry under supervision of master carpenter\n",
      "Kept job site cleaned up properly and all debris disposed of in respective containers\n",
      "Interpreted specifications and construction drawings to understand tasks necessary to complete each job\n",
      "Accepted feedback from foreman and journeyman carpenter, implementing suggestions into later work\n",
      "Observed all OSHA and corporate safety regulations and procedures\n",
      "Led variety of projects from start to finish, including garages, residential homes and additions\n",
      "Repaired roofs and flooring and remodeled bathrooms and kitchens to complete projects in satisfactory time\n",
      "Effectively used all fasteners such as nails, screws, pneumatic nailing systems, concrete anchors, powder-actuated fasteners and framing\n",
      "connectors\n",
      "Proactively managed projects to obtain 100% customer satisfaction for all custom work\n",
      "Installed interior finish items, including wall protection, doors and hardware, toilet accessories, cubicle curtain tracks and TV brackets\n",
      "Installed drywall, ceilings, trim and fabricated replacement trim and moldings\n",
      "\n",
      "Construction Worker , 08/2016 to 09/2017 \n",
      "Company Name â€“ City , State \n",
      "\n",
      "Supported customer preferences with basic carpentry work such as installing wooden floors and crown molding\n",
      "Consulted with customers to understand desires and help each owner meet individual property objectives\n",
      "Gathered and disposed of work site debris to remove safety hazards and boost team productivity\n",
      "Monitored materials inventory and requested items for restocking for each job\n",
      "Loaded and unloaded building materials used for construction\n",
      "Safely operated mowers, chain saws, electric clippers, sod cutters and pruning saws to clear construction sites, roadbeds and access roads\n",
      "Erected and removed temporary structures such as trench liners and scaffolding to meet team needs\n",
      "Enhanced team efficiency and multitasking abilities by effectively using hand tools, power tools and equipment\n",
      "Gathered waste and trash from job sites for placement in refuse containers to keep job sites clean and organized\n",
      "\n",
      "\f",
      "\n"
     ]
    }
   ],
   "source": [
    "input_file = open('data/data/CONSTRUCTION/10100240.pdf', 'rb')\n",
    "\n",
    "resMgr = PDFResourceManager()\n",
    "retData = io.StringIO()\n",
    "TxtConverter = TextConverter(resMgr, retData, laparams = LAParams())\n",
    "interpreter = PDFPageInterpreter(resMgr, TxtConverter)\n",
    "\n",
    "for page in PDFPage.get_pages(input_file): \n",
    "    interpreter.process_page(page)\n",
    "    txt = retData.getvalue()\n",
    "    print(txt)"
   ]
  },
  {
   "cell_type": "code",
   "execution_count": 4,
   "id": "c2626adb",
   "metadata": {
    "scrolled": true
   },
   "outputs": [
    {
     "name": "stdout",
     "output_type": "stream",
     "text": [
      "CARPENTER APPRENTICE Professional Summary  Former construction and carpentry worker committed to high-quality workmanship and safe environments. Over 4 years of hands-on experience working with remodeling projects in residential and commercial construction. Dedicated work ethic and exceptional attendance record. I am motivated to learn new trades and skills. Interested in growing career and fostering leadership capabilities. Professional Construction Laborer with excellent interpersonal skills. Works in timely and efficient manner to see tough jobs through to completion.  Skills  Cabinetry Material prepping Construction drawing interpretation Carpentry techniques Oral and written communication  Materials handling New construction and renovation Drywalling Safety and compliance  Work History Carpenter Apprentice , 10/2017 to 09/2019  Company Name â€“ City , State   Assisted with movement of materials and equipment to job sites Worked with master carpenters to install decks for both residential and commercial customers Installed and repaired woodwork, millwork and cabinetry under supervision of master carpenter Kept job site cleaned up properly and all debris disposed of in respective containers Interpreted specifications and construction drawings to understand tasks necessary to complete each job Accepted feedback from foreman and journeyman carpenter, implementing suggestions into later work Observed all OSHA and corporate safety regulations and procedures Led variety of projects from start to finish, including garages, residential homes and additions Repaired roofs and flooring and remodeled bathrooms and kitchens to complete projects in satisfactory time Effectively used all fasteners such as nails, screws, pneumatic nailing systems, concrete anchors, powder-actuated fasteners and framing connectors Proactively managed projects to obtain 100% customer satisfaction for all custom work Installed interior finish items, including wall protection, doors and hardware, toilet accessories, cubicle curtain tracks and TV brackets Installed drywall, ceilings, trim and fabricated replacement trim and moldings  Construction Worker , 08/2016 to 09/2017  Company Name â€“ City , State   Supported customer preferences with basic carpentry work such as installing wooden floors and crown molding Consulted with customers to understand desires and help each owner meet individual property objectives Gathered and disposed of work site debris to remove safety hazards and boost team productivity Monitored materials inventory and requested items for restocking for each job Loaded and unloaded building materials used for construction Safely operated mowers, chain saws, electric clippers, sod cutters and pruning saws to clear construction sites, roadbeds and access roads Erected and removed temporary structures such as trench liners and scaffolding to meet team needs Enhanced team efficiency and multitasking abilities by effectively using hand tools, power tools and equipment Gathered waste and trash from job sites for placement in refuse containers to keep job sites clean and organized  Education High School Diploma : 04/2010  Buffalo High School - City , State  CSHO (Certified Safety & Health Official) , 01/2020  TEEX - City  Skills  Cabinetry Material prepping Construction drawing interpretation Carpentry techniques Oral and written communication  Materials handling New construction and renovation Drywalling Safety and compliance  Work History Carpenter Apprentice , 10/2017 to 09/2019   \f",
      "Company Name â€“ City , State   Assisted with movement of materials and equipment to job sites Worked with master carpenters to install decks for both residential and commercial customers Installed and repaired woodwork, millwork and cabinetry under supervision of master carpenter Kept job site cleaned up properly and all debris disposed of in respective containers Interpreted specifications and construction drawings to understand tasks necessary to complete each job Accepted feedback from foreman and journeyman carpenter, implementing suggestions into later work Observed all OSHA and corporate safety regulations and procedures Led variety of projects from start to finish, including garages, residential homes and additions Repaired roofs and flooring and remodeled bathrooms and kitchens to complete projects in satisfactory time Effectively used all fasteners such as nails, screws, pneumatic nailing systems, concrete anchors, powder-actuated fasteners and framing connectors Proactively managed projects to obtain 100% customer satisfaction for all custom work Installed interior finish items, including wall protection, doors and hardware, toilet accessories, cubicle curtain tracks and TV brackets Installed drywall, ceilings, trim and fabricated replacement trim and moldings  Construction Worker , 08/2016 to 09/2017  Company Name â€“ City , State   Supported customer preferences with basic carpentry work such as installing wooden floors and crown molding Consulted with customers to understand desires and help each owner meet individual property objectives Gathered and disposed of work site debris to remove safety hazards and boost team productivity Monitored materials inventory and requested items for restocking for each job Loaded and unloaded building materials used for construction Safely operated mowers, chain saws, electric clippers, sod cutters and pruning saws to clear construction sites, roadbeds and access roads Erected and removed temporary structures such as trench liners and scaffolding to meet team needs Enhanced team efficiency and multitasking abilities by effectively using hand tools, power tools and equipment Gathered waste and trash from job sites for placement in refuse containers to keep job sites clean and organized  \f",
      "\n"
     ]
    }
   ],
   "source": [
    "import re\n",
    "# replace the new line to space \n",
    "txt = txt.replace('\\n', \" \")  \n",
    "\n",
    "txt = txt.replace('[^a-zA-Z0-9]', \" \")\n",
    "re.sub('\\W+','',txt)\n",
    "print(txt)"
   ]
  },
  {
   "cell_type": "markdown",
   "id": "73375744",
   "metadata": {},
   "source": [
    "#### Extracting Name "
   ]
  },
  {
   "cell_type": "code",
   "execution_count": 5,
   "id": "692d5233",
   "metadata": {},
   "outputs": [
    {
     "name": "stdout",
     "output_type": "stream",
     "text": [
      "CARPENTER APPRENTICE\n"
     ]
    }
   ],
   "source": [
    "import spacy\n",
    "from spacy.matcher import Matcher \n",
    "\n",
    "# Load the pre-trained model, this understands the English text \n",
    "nlp = spacy.load('en_core_web_sm')\n",
    "\n",
    "# creating a matcher object to define and find patterns \n",
    "matcher = Matcher(nlp.vocab)\n",
    "\n",
    "def extract_name(resume_text):\n",
    "    nlp_text = nlp(resume_text)\n",
    "    \n",
    "    # two proper noun in a row\n",
    "    patterns = [{'POS':\"PROPN\"},{\"POS\":'PROPN'}]\n",
    "    matcher.add('NAME', [patterns], on_match=None)\n",
    "    matches = matcher(nlp_text)\n",
    "    \n",
    "    \n",
    "    for match_id, start, end in matches: \n",
    "        span = nlp_text[start: end]\n",
    "        return span.text\n",
    "    \n",
    "name = extract_name(txt)\n",
    "\n",
    "print(name)\n",
    "    "
   ]
  },
  {
   "cell_type": "markdown",
   "id": "23df79bf",
   "metadata": {},
   "source": [
    "#### Extract Mobile number"
   ]
  },
  {
   "cell_type": "code",
   "execution_count": 6,
   "id": "39e8aee4",
   "metadata": {},
   "outputs": [
    {
     "name": "stdout",
     "output_type": "stream",
     "text": [
      "[]\n"
     ]
    }
   ],
   "source": [
    "def extract_mobile(string): \n",
    "    pattern = r'(\\d{3}[-\\.\\s]??\\d{3}[-\\.\\s]??\\d{4}|\\(\\d{3}\\)\\s*\\d{3}[-\\.\\s]??\\d{4}|\\d{3}[-\\.\\s]??\\d{4})'\n",
    "    r = re.compile(pattern)\n",
    "    mobile = r.findall(string)\n",
    "    return [re.sub(r'\\D','', num) for num in mobile]\n",
    "\n",
    "mobile_number = extract_mobile(txt)\n",
    "print(mobile_number)"
   ]
  },
  {
   "cell_type": "markdown",
   "id": "2ce23a79",
   "metadata": {},
   "source": [
    "#### Extract email \n"
   ]
  },
  {
   "cell_type": "code",
   "execution_count": 7,
   "id": "1de75d42",
   "metadata": {},
   "outputs": [
    {
     "name": "stdout",
     "output_type": "stream",
     "text": [
      "[]\n"
     ]
    }
   ],
   "source": [
    "def extract_email(string): \n",
    "    pattern = r'[\\w\\.-]+\\s*@\\s*[\\w\\.-]+'\n",
    "    r = re.compile(pattern)\n",
    "    return r.findall(string)\n",
    "\n",
    "email = extract_email(txt)\n",
    "print(email)"
   ]
  },
  {
   "cell_type": "markdown",
   "id": "c382e6b2",
   "metadata": {},
   "source": [
    "#### Extract Education "
   ]
  },
  {
   "cell_type": "code",
   "execution_count": 67,
   "id": "a3ef70b3",
   "metadata": {},
   "outputs": [
    {
     "name": "stdout",
     "output_type": "stream",
     "text": [
      "[]\n"
     ]
    }
   ],
   "source": [
    "def extract_edu(text): \n",
    "    nlp_text = nlp(text)\n",
    "    \n",
    "    tokens = [token.text for token in nlp_text if not token.is_stop]\n",
    "    \n",
    "    # skills database \n",
    "    edu = ['m.c.a','masters in computer application', 'mca', 'mtech','b.tech',\n",
    "          'b.e','b.s','bs','be','btech','bsc','b.sc','bachelor of science',\n",
    "          'bachelor of engineering','bachelor of technology', 'bachelor of',\n",
    "          'mba','m.b.a','m.com','mcom','b.com','bcom','ma','m.a','b.a','ba','masters of computer application',\n",
    "          'bachelors of computer application']\n",
    "    \n",
    "    extractedEdu = []\n",
    "    \n",
    "    # one-gram\n",
    "    for i in tokens: \n",
    "        if i.lower() in edu: \n",
    "            extractedEdu.append(i)\n",
    "            \n",
    "    # bi-grams or tri-grams \n",
    "    for i in nlp_text.noun_chunks: \n",
    "        i = i.text.lower().strip()\n",
    "        if i in edu: \n",
    "            extractedEdu.append(i)\n",
    "        \n",
    "    # capitalize and remove duplicates \n",
    "    \n",
    "    return [word.capitalize() for word in set([word.lower() for word in extractedEdu])]\n",
    "\n",
    "education = extract_edu(txt)\n",
    "print(education)"
   ]
  },
  {
   "cell_type": "markdown",
   "id": "4bdaaafc",
   "metadata": {},
   "source": [
    "#### Extracting skills using linkedin skill data "
   ]
  },
  {
   "cell_type": "code",
   "execution_count": 68,
   "id": "634249f1",
   "metadata": {
    "scrolled": true
   },
   "outputs": [
    {
     "name": "stdout",
     "output_type": "stream",
     "text": [
      "['Microsoft', 'C++', 'Visualization', 'Iit', 'Public', 'Prediction', 'Numpy', 'Analytics', 'Computing', 'Api', 'Models', 'Pandas', 'Uav', 'Project', 'Linkedin', 'Reinforcement', 'Platforms', 'Java', 'Excel', 'Python', 'Android', 'Mobile', 'Transparency', 'Algorithms', 'Scipy', 'Cyber', 'Application', 'Edge', 'Online', 'Web', 'Classification', 'Learning', 'Graphs', 'Technology', 'Sql']\n"
     ]
    }
   ],
   "source": [
    "linkedin_skill = []\n",
    "with open('linkedin skill', encoding='utf-8') as file: \n",
    "    skills = list(file)\n",
    "\n",
    "for skill in skills: \n",
    "    linkedin_skill.append(skill.strip().lower())\n",
    "\n",
    "def extract_skills(text): \n",
    "    nlp_text = nlp(text)\n",
    "    tokens = [token.text for token in nlp_text if not token.is_stop]\n",
    "    \n",
    "    skillset = []\n",
    "    \n",
    "    for i in tokens: \n",
    "        if i.lower() in linkedin_skill: \n",
    "            skillset.append(i)\n",
    "            \n",
    "    for i in nlp_text.noun_chunks: \n",
    "        i = i.text.lower().strip()\n",
    "        if i in skills: \n",
    "            skillset.append(i)\n",
    "            \n",
    "    return [word.capitalize() for word in set([word.lower() for word in skillset])]\n",
    "\n",
    "\n",
    "skills = extract_skills(txt)\n",
    "\n",
    "print(skills)"
   ]
  },
  {
   "cell_type": "markdown",
   "id": "02457187",
   "metadata": {},
   "source": [
    "#### Extract Resume details "
   ]
  },
  {
   "cell_type": "code",
   "execution_count": 69,
   "id": "75f17ce0",
   "metadata": {},
   "outputs": [],
   "source": [
    "def resume_file(file_name):\n",
    "    file = open(file_name,'rb')\n",
    "    resMgr = PDFResourceManager()\n",
    "    retData = io.StringIO()\n",
    "    TxtConverter = TextConverter(resMgr, retData, laparams = LAParams())\n",
    "    interpreter = PDFPageInterpreter(resMgr, TxtConverter)\n",
    "    \n",
    "    for page in PDFPage.get_pages(file): \n",
    "        interpreter.process_page(page)\n",
    "        txt = retData.getvalue()\n",
    "        \n",
    "        return txt\n",
    "    "
   ]
  },
  {
   "cell_type": "code",
   "execution_count": 70,
   "id": "c1c39bce",
   "metadata": {},
   "outputs": [],
   "source": [
    "def resume_details(text): \n",
    "    name = extract_name(txt)\n",
    "    mobile = extract_mobile(txt)\n",
    "    email = extract_email(txt)\n",
    "    edu = extract_edu(txt)\n",
    "    skills = extract_skills(txt)\n",
    "    \n",
    "    details = {}\n",
    "    details['Name'] = name \n",
    "    details['Mobile no.'] = mobile\n",
    "    details['Email'] = email\n",
    "    details['Education'] = edu \n",
    "    details['Skills'] = skills\n",
    "    \n",
    "    \n",
    "    return details"
   ]
  },
  {
   "cell_type": "markdown",
   "id": "f939d579",
   "metadata": {},
   "source": [
    "#### Example 1 "
   ]
  },
  {
   "cell_type": "code",
   "execution_count": 71,
   "id": "07e9225e",
   "metadata": {
    "scrolled": true
   },
   "outputs": [
    {
     "data": {
      "text/plain": [
       "{'Name': 'Vellore Institute',\n",
       " 'Mobile no.': ['8307509992'],\n",
       " 'Email': ['psharma0880@gmail.com'],\n",
       " 'Education': [],\n",
       " 'Skills': ['Microsoft',\n",
       "  'C++',\n",
       "  'Visualization',\n",
       "  'Iit',\n",
       "  'Public',\n",
       "  'Prediction',\n",
       "  'Numpy',\n",
       "  'Analytics',\n",
       "  'Computing',\n",
       "  'Api',\n",
       "  'Models',\n",
       "  'Pandas',\n",
       "  'Uav',\n",
       "  'Project',\n",
       "  'Linkedin',\n",
       "  'Reinforcement',\n",
       "  'Platforms',\n",
       "  'Java',\n",
       "  'Excel',\n",
       "  'Python',\n",
       "  'Android',\n",
       "  'Mobile',\n",
       "  'Transparency',\n",
       "  'Algorithms',\n",
       "  'Scipy',\n",
       "  'Cyber',\n",
       "  'Application',\n",
       "  'Edge',\n",
       "  'Online',\n",
       "  'Web',\n",
       "  'Classification',\n",
       "  'Learning',\n",
       "  'Graphs',\n",
       "  'Technology',\n",
       "  'Sql']}"
      ]
     },
     "execution_count": 71,
     "metadata": {},
     "output_type": "execute_result"
    }
   ],
   "source": [
    "resume_details(txt)"
   ]
  },
  {
   "cell_type": "markdown",
   "id": "1cd0f1e2",
   "metadata": {},
   "source": [
    "#### Example 2 "
   ]
  },
  {
   "cell_type": "code",
   "execution_count": 72,
   "id": "56825986",
   "metadata": {
    "scrolled": true
   },
   "outputs": [
    {
     "data": {
      "text/plain": [
       "{'Name': 'Vellore Institute',\n",
       " 'Mobile no.': ['8307509992'],\n",
       " 'Email': ['psharma0880@gmail.com'],\n",
       " 'Education': [],\n",
       " 'Skills': ['Microsoft',\n",
       "  'C++',\n",
       "  'Visualization',\n",
       "  'Iit',\n",
       "  'Public',\n",
       "  'Prediction',\n",
       "  'Numpy',\n",
       "  'Analytics',\n",
       "  'Computing',\n",
       "  'Api',\n",
       "  'Models',\n",
       "  'Pandas',\n",
       "  'Uav',\n",
       "  'Project',\n",
       "  'Linkedin',\n",
       "  'Reinforcement',\n",
       "  'Platforms',\n",
       "  'Java',\n",
       "  'Excel',\n",
       "  'Python',\n",
       "  'Android',\n",
       "  'Mobile',\n",
       "  'Transparency',\n",
       "  'Algorithms',\n",
       "  'Scipy',\n",
       "  'Cyber',\n",
       "  'Application',\n",
       "  'Edge',\n",
       "  'Online',\n",
       "  'Web',\n",
       "  'Classification',\n",
       "  'Learning',\n",
       "  'Graphs',\n",
       "  'Technology',\n",
       "  'Sql']}"
      ]
     },
     "execution_count": 72,
     "metadata": {},
     "output_type": "execute_result"
    }
   ],
   "source": [
    "txt = resume_file('Resume_Pooja.pdf') \n",
    "resume_details(txt)"
   ]
  },
  {
   "cell_type": "code",
   "execution_count": 73,
   "id": "1cb2fdc6",
   "metadata": {
    "scrolled": true
   },
   "outputs": [
    {
     "data": {
      "text/plain": [
       "{'Name': 'Ms. Zoya',\n",
       " 'Mobile no.': ['4292812'],\n",
       " 'Email': ['zoya.lala45@gmail.com'],\n",
       " 'Education': [],\n",
       " 'Skills': ['C',\n",
       "  'Oracle',\n",
       "  'C++',\n",
       "  'Database',\n",
       "  'Pwa',\n",
       "  'App',\n",
       "  'Chat',\n",
       "  'Cisco',\n",
       "  'Typing',\n",
       "  'Wordpress',\n",
       "  'Php',\n",
       "  'Design',\n",
       "  'Features',\n",
       "  'Foundations',\n",
       "  'Socket.io',\n",
       "  'Project',\n",
       "  'Java',\n",
       "  'Languages',\n",
       "  'Html',\n",
       "  'Authentication',\n",
       "  'Python',\n",
       "  'English',\n",
       "  'Hindi',\n",
       "  'Gold',\n",
       "  'Ux',\n",
       "  'Javascript',\n",
       "  'Application',\n",
       "  'Web',\n",
       "  'Football',\n",
       "  'Swimming',\n",
       "  'Learning',\n",
       "  'Mysql',\n",
       "  'Otp',\n",
       "  'Figma',\n",
       "  'Technology',\n",
       "  'Form',\n",
       "  'Css',\n",
       "  'Punjabi',\n",
       "  'Reason']}"
      ]
     },
     "execution_count": 73,
     "metadata": {},
     "output_type": "execute_result"
    }
   ],
   "source": [
    "txt = resume_file('Zoya Lala Resume.pdf')\n",
    "resume_details(txt)"
   ]
  },
  {
   "cell_type": "code",
   "execution_count": 74,
   "id": "963ac38e",
   "metadata": {
    "scrolled": true
   },
   "outputs": [
    {
     "data": {
      "text/plain": [
       "{'Name': 'Utkarsh Chaturvedi',\n",
       " 'Mobile no.': ['6265437545'],\n",
       " 'Email': ['utkarshchaturvedi908@gmail.com'],\n",
       " 'Education': [],\n",
       " 'Skills': ['Aws',\n",
       "  'C++',\n",
       "  'Database',\n",
       "  'App',\n",
       "  'Context',\n",
       "  'Functionality',\n",
       "  'Storage',\n",
       "  'Api',\n",
       "  'Protocol',\n",
       "  'Design',\n",
       "  'Basic',\n",
       "  'Platforms',\n",
       "  'Java',\n",
       "  'Drag',\n",
       "  'Html',\n",
       "  'Languages',\n",
       "  'Python',\n",
       "  'Amazon',\n",
       "  'Mobile',\n",
       "  'Email',\n",
       "  'Live',\n",
       "  'Tamil',\n",
       "  'Facebook',\n",
       "  'Javascript',\n",
       "  'Application',\n",
       "  'Web',\n",
       "  'Mongodb',\n",
       "  'Mysql',\n",
       "  'Lex',\n",
       "  'Technology',\n",
       "  'Form',\n",
       "  'Css']}"
      ]
     },
     "execution_count": 74,
     "metadata": {},
     "output_type": "execute_result"
    }
   ],
   "source": [
    "txt = resume_file('UtkarshChaturvedi_Resume.pdf')\n",
    "resume_details(txt)"
   ]
  },
  {
   "cell_type": "code",
   "execution_count": null,
   "id": "b5c1cb9a",
   "metadata": {},
   "outputs": [],
   "source": []
  },
  {
   "cell_type": "code",
   "execution_count": null,
   "id": "5b659a05",
   "metadata": {},
   "outputs": [],
   "source": []
  },
  {
   "cell_type": "code",
   "execution_count": null,
   "id": "8d2946f7",
   "metadata": {},
   "outputs": [],
   "source": []
  },
  {
   "cell_type": "code",
   "execution_count": null,
   "id": "c3dcca13",
   "metadata": {},
   "outputs": [],
   "source": []
  }
 ],
 "metadata": {
  "kernelspec": {
   "display_name": "Python 3 (ipykernel)",
   "language": "python",
   "name": "python3"
  },
  "language_info": {
   "codemirror_mode": {
    "name": "ipython",
    "version": 3
   },
   "file_extension": ".py",
   "mimetype": "text/x-python",
   "name": "python",
   "nbconvert_exporter": "python",
   "pygments_lexer": "ipython3",
   "version": "3.7.11"
  }
 },
 "nbformat": 4,
 "nbformat_minor": 5
}
